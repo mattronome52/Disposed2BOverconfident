{
 "cells": [
  {
   "cell_type": "markdown",
   "metadata": {
    "colab_type": "text",
    "id": "view-in-github"
   },
   "source": [
    "<a href=\"https://colab.research.google.com/github/mattronome52/Disposed2BOverconfident/blob/master/Disposed2BOverconfident.ipynb\" target=\"_parent\"><img src=\"https://colab.research.google.com/assets/colab-badge.svg\" alt=\"Open In Colab\"/></a>"
   ]
  },
  {
   "cell_type": "code",
   "execution_count": 16,
   "metadata": {
    "colab": {},
    "colab_type": "code",
    "id": "MQLiwjNszhQU"
   },
   "outputs": [],
   "source": [
    "from random import choices\n",
    "import json\n",
    "from json import JSONEncoder\n",
    "\n",
    "####### Constants ######\n",
    "## Stock Class ##\n",
    "QUALITIES = ['good', 'bad']\n",
    "QUALITY_WEIGHTS = [0.25, 0.75]\n",
    "PRICE_CHANGES = [-3, -1, 1, 5]\n",
    "PRICE_CHANGE_WEIGHTS_GOOD = [0.2, 0.2, 0.3, 0.3]\n",
    "PRICE_CHANGE_WEIGHTS_BAD = [0.3, 0.3, 0.2, 0.2]\n",
    "INITIAL_PRICE = 10\n",
    "\n",
    "\"\"\"\n",
    "A function takes in a custom object and returns a dictionary representation of the object.\n",
    "This dict representation includes meta data such as the object's module and class names.\n",
    "\"\"\"\n",
    "def convertObjectToDict(obj):\n",
    "  #  Populate the dictionary with object meta data \n",
    "  obj_dict = {\n",
    "    \"__class__\": obj.__class__.__name__,\n",
    "    \"__module__\": obj.__module__\n",
    "  }\n",
    "  #  Populate the dictionary with object properties\n",
    "  obj_dict.update(obj.__dict__)\n",
    "  return obj_dict\n",
    "\n",
    "\"\"\"\n",
    "Function that takes in a dict and returns a custom object associated with the dict.\n",
    "This function makes use of the \"__module__\" and \"__class__\" metadata in the dictionary\n",
    "to know which object type to create.\n",
    "\"\"\"\n",
    "def convertDictToObject(our_dict):\n",
    "  if \"__class__\" in our_dict:\n",
    "    # Pop ensures we remove metadata from the dict to leave only the instance arguments\n",
    "    class_name = our_dict.pop(\"__class__\")\n",
    "    \n",
    "    # Get the module name from the dict and import it\n",
    "    module_name = our_dict.pop(\"__module__\")\n",
    "    \n",
    "    # We use the built in __import__ function since the module name is not yet known at runtime\n",
    "    module = __import__(module_name)\n",
    "    \n",
    "    # Get the class from the module\n",
    "    class_ = getattr(module,class_name)\n",
    "    \n",
    "    # Use dictionary unpacking to initialize the object\n",
    "    obj = class_(**our_dict)\n",
    "  else:\n",
    "    obj = our_dict\n",
    "  return obj\n",
    "\n",
    "\n",
    "class Stock(object):\n",
    "  def __init__(self, name, initialPrice = None, quality = None, priceChangeHistory = None):\n",
    "    global QUALITIES, QUALITY_WEIGHTS, PRICE_CHANGES, PRICE_CHANGE_WEIGHTS_GOOD, PRICE_CHANGE_WEIGHTS_BAD\n",
    "    \n",
    "    self.name = name\n",
    "    self.initialPrice = INITIAL_PRICE\n",
    "    randQualityList = choices(QUALITIES, QUALITY_WEIGHTS) # random choice with weightings.\n",
    "    self.quality = randQualityList[0]  # Get string from list\n",
    "    self.priceChangeHistory = self.__createPriceChangeHistory()\n",
    "\n",
    "  def __createPriceChangeHistory(self):\n",
    "    global QUALITIES, QUALITY_WEIGHTS, PRICE_CHANGE_WEIGHTS_GOOD, PRICE_CHANGE_WEIGHTS_BAD, PRICE_CHANGES\n",
    "    generatedPriceChangeHistory = []\n",
    "    \n",
    "    if self.quality == 'good':\n",
    "      weights = PRICE_CHANGE_WEIGHTS_GOOD\n",
    "    else: \n",
    "      weights = PRICE_CHANGE_WEIGHTS_BAD\n",
    "\n",
    "    generatedPriceChangeHistory = choices(PRICE_CHANGES, weights, k=10)\n",
    "    return generatedPriceChangeHistory\n",
    "\n",
    "  def name(self):\n",
    "    return self.name\n",
    "\n",
    "  def initialPrice(self):\n",
    "    return self.initialPrice\n",
    "\n",
    "  def priceForTestPeriod(self, periodNum):\n",
    "    # get rid of the first three entries in the priceChangeHistory--they occurred before test begins\n",
    "    priceChangeHistoryForTest = self.priceChangeHistory[3:]\n",
    "    \n",
    "    if periodNum > len(priceChangeHistoryForTest):\n",
    "      print(\"ERROR: Asking for a test period that hasn't been created yet\")\n",
    "      print(f'    Period: {periodNum}, max defined periods: {len(priceChangeHistoryForTest)}')\n",
    "      raise\n",
    "        \n",
    "    return self.initialPrice() + sum(priceChangeHistoryForTest[0:periodNum])\n",
    "\n",
    "  def gainsPrevious(self):\n",
    "    numberGainsPrevious = sum(1 for priceChangePrev in self.priceChangeHistory[:3] if priceChangePrev > 0)\n",
    "    return numberGainsPrevious\n",
    "\n",
    "  def toJSONString(self):\n",
    "    # jsonString = json.dumps(self, default=convertObjectToDict, indent=4, sort_keys=True)\n",
    "\n",
    "    jsonString = json.dumps(self, default=convertObjectToDict, sort_keys=True)\n",
    "\n",
    "    return jsonString\n",
    "\n",
    "\n",
    "  def fromJSONString(self, string):\n",
    "    obj = json.loads(string,object_hook=convertDictToObject)\n",
    "    return obj\n",
    "\n",
    "\n",
    "  # def toJSONString(self):\n",
    "    # jsonString = json.dumps(self, default=lambda o: o.__dict__, sort_keys=True, indent=4)\n",
    "    # return jsonString\n",
    "\n",
    "  def description(self):    \n",
    "    print(f'Stock: {self.name}')\n",
    "    print(f'  quality:                  {self.quality}')\n",
    "    print(f'  price change history:     {self.priceChangeHistory[3:]}')\n",
    "    \n",
    "    if (Market.currentPeriod == 0):\n",
    "      print(f'  price for current period: {self.initialPrice}')\n",
    "    else:\n",
    "      print(f'  price for current period: {self.priceForTestPeriod(self.marketClass.currentPeriod)}')\n"
   ]
  },
  {
   "cell_type": "code",
   "execution_count": 17,
   "metadata": {},
   "outputs": [],
   "source": [
    "aStock = Stock(\"bar\")\n",
    "aStock.toJSONString()\n",
    "cloneStock = aStock.fromJSONString('{\"__class__\": \"Stock\", \"__module__\": \"__main__\", \"initialPrice\": 10, \"name\": \"bar\", \"priceChangeHistory\": [-1, 1, -1, 5, 1, -1, -3, -3, 5, 5], \"quality\": \"bad\"}')"
   ]
  },
  {
   "cell_type": "code",
   "execution_count": 19,
   "metadata": {},
   "outputs": [
    {
     "name": "stdout",
     "output_type": "stream",
     "text": [
      "Stock: bar\n",
      "  quality:                  bad\n",
      "  price change history:     [-3, 1, -1, -1, 5, -1, 5]\n",
      "  price for current period: 10\n",
      "Stock: bar\n",
      "  quality:                  good\n",
      "  price change history:     [-1, 1, 1, 1, -3, -1, -1]\n",
      "  price for current period: 10\n"
     ]
    }
   ],
   "source": [
    "cloneStock.description()\n",
    "aStock.description()"
   ]
  },
  {
   "cell_type": "code",
   "execution_count": 5,
   "metadata": {
    "colab": {},
    "colab_type": "code",
    "id": "suejZ3vcw8kM"
   },
   "outputs": [],
   "source": [
    "## Market Class ##\n",
    "import json\n",
    "from collections import namedtuple\n",
    "\n",
    "class Market(object):\n",
    "  STOCK_NAMES = [\"A\", \"B\",\"C\",\"D\",\"E\",\"F\",\"G\",\"H\",\"I\",\"J\",\"K\",\"L\",\"M\",\"N\",\"O\",\"P\",\"Q\",\"R\",\"S\",\"T\",\"U\",\"V\",\"W\",\"X\",\"W\",\"Z\"]\n",
    "  MAX_NUM_STOCKS = len(STOCK_NAMES)\n",
    "  # initialStocks = []\n",
    "  currentPeriod = 0\n",
    "  testStockFilename = 'TestStocks.json'\n",
    "\n",
    "  def __init__(self, name, numStocks, testMode = False):\n",
    "    if (numStocks > self.MAX_NUM_STOCKS):\n",
    "      print(f\"ERROR: No more than {len(self.MAX_NUM_STOCKS)} stocks can be created\")\n",
    "      raise\n",
    "    self.name = name\n",
    "    if (testMode == True):\n",
    "        self.readStocksJSONFromFile()\n",
    "    else:\n",
    "        self.initialStocks = (self.__generateStocks(numStocks))\n",
    "        \n",
    "  def initialStocks(self):\n",
    "    return self.initialStocks\n",
    "\n",
    "  def __encodeStocksToJSONString(self):\n",
    "    encodedStocks = ''\n",
    "    for stock in self.initialStocks:\n",
    "      encodedStocks = encodedStocks + stock.toJSONString()\n",
    "    return encodedStocks\n",
    "\n",
    "  def readStocksJSONFromFile(self):\n",
    "    testFileName = self.testStockFilename\n",
    "    with open(testFileName, \"r\") as testStocksFile:\n",
    "      oneStockStr = json.load(testStocksFile)\n",
    "      stockObject = Stock.fromJSONString(oneStockStr)\n",
    "      print (f'OneStock: {oneStock}')\n",
    "      stockObject.description()\n",
    "\n",
    "  def writeStocksJSONToFile(self):\n",
    "    testFileName = self.testStockFilename\n",
    "    # testFileName = self.testStockFilename + datetime.now().strftime(\"%Y%m%d-%H%M%S\") + '.json'\n",
    "    with open(testFileName, \"w\") as testStocksFile:\n",
    "      testStocksFile.write(self.__encodeStocksToJSONString())\n",
    "\n",
    "  def __generateStocks(self, numStocks):\n",
    "    i = 0\n",
    "    stocks = []\n",
    "    while (i < numStocks):\n",
    "      newStock = Stock(self.STOCK_NAMES[i])\n",
    "      stocks.append(newStock)\n",
    "      i = i+1\n",
    "    return stocks\n",
    "\n",
    "  # Print out each stock\n",
    "  def description(self):\n",
    "    print(f'Market name: {self.name}')\n",
    "    print(f'  current period: {Market.currentPeriod}')\n",
    "\n",
    "    if (len(self.initialStocks) == 0):\n",
    "      print(\"  Market has no stocks\")\n",
    "    else:\n",
    "      for stock in self.initialStocks:\n",
    "        stock.description()\n",
    "\n"
   ]
  },
  {
   "cell_type": "code",
   "execution_count": null,
   "metadata": {},
   "outputs": [],
   "source": [
    "aMarket = Market('foo', 10, testMode= False)\n",
    "aMarket.description()"
   ]
  },
  {
   "cell_type": "code",
   "execution_count": null,
   "metadata": {},
   "outputs": [],
   "source": [
    "aMarket.writeStocksJSONToFile()"
   ]
  },
  {
   "cell_type": "code",
   "execution_count": 6,
   "metadata": {},
   "outputs": [
    {
     "ename": "JSONDecodeError",
     "evalue": "Expecting value: line 1 column 1 (char 0)",
     "output_type": "error",
     "traceback": [
      "\u001b[0;31m---------------------------------------------------------------------------\u001b[0m",
      "\u001b[0;31mJSONDecodeError\u001b[0m                           Traceback (most recent call last)",
      "\u001b[0;32m<ipython-input-6-d92898f20664>\u001b[0m in \u001b[0;36m<module>\u001b[0;34m\u001b[0m\n\u001b[0;32m----> 1\u001b[0;31m \u001b[0mtestMarket\u001b[0m \u001b[0;34m=\u001b[0m \u001b[0mMarket\u001b[0m\u001b[0;34m(\u001b[0m\u001b[0;34m'foo'\u001b[0m\u001b[0;34m,\u001b[0m \u001b[0;36m10\u001b[0m\u001b[0;34m,\u001b[0m \u001b[0mtestMode\u001b[0m\u001b[0;34m=\u001b[0m \u001b[0;32mTrue\u001b[0m\u001b[0;34m)\u001b[0m\u001b[0;34m\u001b[0m\u001b[0;34m\u001b[0m\u001b[0m\n\u001b[0m",
      "\u001b[0;32m<ipython-input-5-736ed2ef4bae>\u001b[0m in \u001b[0;36m__init__\u001b[0;34m(self, name, numStocks, testMode)\u001b[0m\n\u001b[1;32m     16\u001b[0m     \u001b[0mself\u001b[0m\u001b[0;34m.\u001b[0m\u001b[0mname\u001b[0m \u001b[0;34m=\u001b[0m \u001b[0mname\u001b[0m\u001b[0;34m\u001b[0m\u001b[0;34m\u001b[0m\u001b[0m\n\u001b[1;32m     17\u001b[0m     \u001b[0;32mif\u001b[0m \u001b[0;34m(\u001b[0m\u001b[0mtestMode\u001b[0m \u001b[0;34m==\u001b[0m \u001b[0;32mTrue\u001b[0m\u001b[0;34m)\u001b[0m\u001b[0;34m:\u001b[0m\u001b[0;34m\u001b[0m\u001b[0;34m\u001b[0m\u001b[0m\n\u001b[0;32m---> 18\u001b[0;31m         \u001b[0mself\u001b[0m\u001b[0;34m.\u001b[0m\u001b[0mreadStocksJSONFromFile\u001b[0m\u001b[0;34m(\u001b[0m\u001b[0;34m)\u001b[0m\u001b[0;34m\u001b[0m\u001b[0;34m\u001b[0m\u001b[0m\n\u001b[0m\u001b[1;32m     19\u001b[0m     \u001b[0;32melse\u001b[0m\u001b[0;34m:\u001b[0m\u001b[0;34m\u001b[0m\u001b[0;34m\u001b[0m\u001b[0m\n\u001b[1;32m     20\u001b[0m         \u001b[0mself\u001b[0m\u001b[0;34m.\u001b[0m\u001b[0minitialStocks\u001b[0m \u001b[0;34m=\u001b[0m \u001b[0;34m(\u001b[0m\u001b[0mself\u001b[0m\u001b[0;34m.\u001b[0m\u001b[0m__generateStocks\u001b[0m\u001b[0;34m(\u001b[0m\u001b[0mnumStocks\u001b[0m\u001b[0;34m)\u001b[0m\u001b[0;34m)\u001b[0m\u001b[0;34m\u001b[0m\u001b[0;34m\u001b[0m\u001b[0m\n",
      "\u001b[0;32m<ipython-input-5-736ed2ef4bae>\u001b[0m in \u001b[0;36mreadStocksJSONFromFile\u001b[0;34m(self)\u001b[0m\n\u001b[1;32m     32\u001b[0m     \u001b[0mtestFileName\u001b[0m \u001b[0;34m=\u001b[0m \u001b[0mself\u001b[0m\u001b[0;34m.\u001b[0m\u001b[0mtestStockFilename\u001b[0m\u001b[0;34m\u001b[0m\u001b[0;34m\u001b[0m\u001b[0m\n\u001b[1;32m     33\u001b[0m     \u001b[0;32mwith\u001b[0m \u001b[0mopen\u001b[0m\u001b[0;34m(\u001b[0m\u001b[0mtestFileName\u001b[0m\u001b[0;34m,\u001b[0m \u001b[0;34m\"r\"\u001b[0m\u001b[0;34m)\u001b[0m \u001b[0;32mas\u001b[0m \u001b[0mtestStocksFile\u001b[0m\u001b[0;34m:\u001b[0m\u001b[0;34m\u001b[0m\u001b[0;34m\u001b[0m\u001b[0m\n\u001b[0;32m---> 34\u001b[0;31m       \u001b[0moneStockStr\u001b[0m \u001b[0;34m=\u001b[0m \u001b[0mjson\u001b[0m\u001b[0;34m.\u001b[0m\u001b[0mload\u001b[0m\u001b[0;34m(\u001b[0m\u001b[0mtestStocksFile\u001b[0m\u001b[0;34m)\u001b[0m\u001b[0;34m\u001b[0m\u001b[0;34m\u001b[0m\u001b[0m\n\u001b[0m\u001b[1;32m     35\u001b[0m       \u001b[0mstockObject\u001b[0m \u001b[0;34m=\u001b[0m \u001b[0mStock\u001b[0m\u001b[0;34m.\u001b[0m\u001b[0mfromJSONString\u001b[0m\u001b[0;34m(\u001b[0m\u001b[0moneStockStr\u001b[0m\u001b[0;34m)\u001b[0m\u001b[0;34m\u001b[0m\u001b[0;34m\u001b[0m\u001b[0m\n\u001b[1;32m     36\u001b[0m       \u001b[0mprint\u001b[0m \u001b[0;34m(\u001b[0m\u001b[0;34mf'OneStock: {oneStock}'\u001b[0m\u001b[0;34m)\u001b[0m\u001b[0;34m\u001b[0m\u001b[0;34m\u001b[0m\u001b[0m\n",
      "\u001b[0;32m~/opt/anaconda3/lib/python3.7/json/__init__.py\u001b[0m in \u001b[0;36mload\u001b[0;34m(fp, cls, object_hook, parse_float, parse_int, parse_constant, object_pairs_hook, **kw)\u001b[0m\n\u001b[1;32m    294\u001b[0m         \u001b[0mcls\u001b[0m\u001b[0;34m=\u001b[0m\u001b[0mcls\u001b[0m\u001b[0;34m,\u001b[0m \u001b[0mobject_hook\u001b[0m\u001b[0;34m=\u001b[0m\u001b[0mobject_hook\u001b[0m\u001b[0;34m,\u001b[0m\u001b[0;34m\u001b[0m\u001b[0;34m\u001b[0m\u001b[0m\n\u001b[1;32m    295\u001b[0m         \u001b[0mparse_float\u001b[0m\u001b[0;34m=\u001b[0m\u001b[0mparse_float\u001b[0m\u001b[0;34m,\u001b[0m \u001b[0mparse_int\u001b[0m\u001b[0;34m=\u001b[0m\u001b[0mparse_int\u001b[0m\u001b[0;34m,\u001b[0m\u001b[0;34m\u001b[0m\u001b[0;34m\u001b[0m\u001b[0m\n\u001b[0;32m--> 296\u001b[0;31m         parse_constant=parse_constant, object_pairs_hook=object_pairs_hook, **kw)\n\u001b[0m\u001b[1;32m    297\u001b[0m \u001b[0;34m\u001b[0m\u001b[0m\n\u001b[1;32m    298\u001b[0m \u001b[0;34m\u001b[0m\u001b[0m\n",
      "\u001b[0;32m~/opt/anaconda3/lib/python3.7/json/__init__.py\u001b[0m in \u001b[0;36mloads\u001b[0;34m(s, encoding, cls, object_hook, parse_float, parse_int, parse_constant, object_pairs_hook, **kw)\u001b[0m\n\u001b[1;32m    346\u001b[0m             \u001b[0mparse_int\u001b[0m \u001b[0;32mis\u001b[0m \u001b[0;32mNone\u001b[0m \u001b[0;32mand\u001b[0m \u001b[0mparse_float\u001b[0m \u001b[0;32mis\u001b[0m \u001b[0;32mNone\u001b[0m \u001b[0;32mand\u001b[0m\u001b[0;34m\u001b[0m\u001b[0;34m\u001b[0m\u001b[0m\n\u001b[1;32m    347\u001b[0m             parse_constant is None and object_pairs_hook is None and not kw):\n\u001b[0;32m--> 348\u001b[0;31m         \u001b[0;32mreturn\u001b[0m \u001b[0m_default_decoder\u001b[0m\u001b[0;34m.\u001b[0m\u001b[0mdecode\u001b[0m\u001b[0;34m(\u001b[0m\u001b[0ms\u001b[0m\u001b[0;34m)\u001b[0m\u001b[0;34m\u001b[0m\u001b[0;34m\u001b[0m\u001b[0m\n\u001b[0m\u001b[1;32m    349\u001b[0m     \u001b[0;32mif\u001b[0m \u001b[0mcls\u001b[0m \u001b[0;32mis\u001b[0m \u001b[0;32mNone\u001b[0m\u001b[0;34m:\u001b[0m\u001b[0;34m\u001b[0m\u001b[0;34m\u001b[0m\u001b[0m\n\u001b[1;32m    350\u001b[0m         \u001b[0mcls\u001b[0m \u001b[0;34m=\u001b[0m \u001b[0mJSONDecoder\u001b[0m\u001b[0;34m\u001b[0m\u001b[0;34m\u001b[0m\u001b[0m\n",
      "\u001b[0;32m~/opt/anaconda3/lib/python3.7/json/decoder.py\u001b[0m in \u001b[0;36mdecode\u001b[0;34m(self, s, _w)\u001b[0m\n\u001b[1;32m    335\u001b[0m \u001b[0;34m\u001b[0m\u001b[0m\n\u001b[1;32m    336\u001b[0m         \"\"\"\n\u001b[0;32m--> 337\u001b[0;31m         \u001b[0mobj\u001b[0m\u001b[0;34m,\u001b[0m \u001b[0mend\u001b[0m \u001b[0;34m=\u001b[0m \u001b[0mself\u001b[0m\u001b[0;34m.\u001b[0m\u001b[0mraw_decode\u001b[0m\u001b[0;34m(\u001b[0m\u001b[0ms\u001b[0m\u001b[0;34m,\u001b[0m \u001b[0midx\u001b[0m\u001b[0;34m=\u001b[0m\u001b[0m_w\u001b[0m\u001b[0;34m(\u001b[0m\u001b[0ms\u001b[0m\u001b[0;34m,\u001b[0m \u001b[0;36m0\u001b[0m\u001b[0;34m)\u001b[0m\u001b[0;34m.\u001b[0m\u001b[0mend\u001b[0m\u001b[0;34m(\u001b[0m\u001b[0;34m)\u001b[0m\u001b[0;34m)\u001b[0m\u001b[0;34m\u001b[0m\u001b[0;34m\u001b[0m\u001b[0m\n\u001b[0m\u001b[1;32m    338\u001b[0m         \u001b[0mend\u001b[0m \u001b[0;34m=\u001b[0m \u001b[0m_w\u001b[0m\u001b[0;34m(\u001b[0m\u001b[0ms\u001b[0m\u001b[0;34m,\u001b[0m \u001b[0mend\u001b[0m\u001b[0;34m)\u001b[0m\u001b[0;34m.\u001b[0m\u001b[0mend\u001b[0m\u001b[0;34m(\u001b[0m\u001b[0;34m)\u001b[0m\u001b[0;34m\u001b[0m\u001b[0;34m\u001b[0m\u001b[0m\n\u001b[1;32m    339\u001b[0m         \u001b[0;32mif\u001b[0m \u001b[0mend\u001b[0m \u001b[0;34m!=\u001b[0m \u001b[0mlen\u001b[0m\u001b[0;34m(\u001b[0m\u001b[0ms\u001b[0m\u001b[0;34m)\u001b[0m\u001b[0;34m:\u001b[0m\u001b[0;34m\u001b[0m\u001b[0;34m\u001b[0m\u001b[0m\n",
      "\u001b[0;32m~/opt/anaconda3/lib/python3.7/json/decoder.py\u001b[0m in \u001b[0;36mraw_decode\u001b[0;34m(self, s, idx)\u001b[0m\n\u001b[1;32m    353\u001b[0m             \u001b[0mobj\u001b[0m\u001b[0;34m,\u001b[0m \u001b[0mend\u001b[0m \u001b[0;34m=\u001b[0m \u001b[0mself\u001b[0m\u001b[0;34m.\u001b[0m\u001b[0mscan_once\u001b[0m\u001b[0;34m(\u001b[0m\u001b[0ms\u001b[0m\u001b[0;34m,\u001b[0m \u001b[0midx\u001b[0m\u001b[0;34m)\u001b[0m\u001b[0;34m\u001b[0m\u001b[0;34m\u001b[0m\u001b[0m\n\u001b[1;32m    354\u001b[0m         \u001b[0;32mexcept\u001b[0m \u001b[0mStopIteration\u001b[0m \u001b[0;32mas\u001b[0m \u001b[0merr\u001b[0m\u001b[0;34m:\u001b[0m\u001b[0;34m\u001b[0m\u001b[0;34m\u001b[0m\u001b[0m\n\u001b[0;32m--> 355\u001b[0;31m             \u001b[0;32mraise\u001b[0m \u001b[0mJSONDecodeError\u001b[0m\u001b[0;34m(\u001b[0m\u001b[0;34m\"Expecting value\"\u001b[0m\u001b[0;34m,\u001b[0m \u001b[0ms\u001b[0m\u001b[0;34m,\u001b[0m \u001b[0merr\u001b[0m\u001b[0;34m.\u001b[0m\u001b[0mvalue\u001b[0m\u001b[0;34m)\u001b[0m \u001b[0;32mfrom\u001b[0m \u001b[0;32mNone\u001b[0m\u001b[0;34m\u001b[0m\u001b[0;34m\u001b[0m\u001b[0m\n\u001b[0m\u001b[1;32m    356\u001b[0m         \u001b[0;32mreturn\u001b[0m \u001b[0mobj\u001b[0m\u001b[0;34m,\u001b[0m \u001b[0mend\u001b[0m\u001b[0;34m\u001b[0m\u001b[0;34m\u001b[0m\u001b[0m\n",
      "\u001b[0;31mJSONDecodeError\u001b[0m: Expecting value: line 1 column 1 (char 0)"
     ]
    }
   ],
   "source": [
    "testMarket = Market('foo', 10, testMode= True)\n"
   ]
  },
  {
   "cell_type": "code",
   "execution_count": null,
   "metadata": {},
   "outputs": [],
   "source": [
    "testMarket.description()"
   ]
  },
  {
   "cell_type": "code",
   "execution_count": null,
   "metadata": {
    "colab": {},
    "colab_type": "code",
    "id": "t6vDPhx5z1AY"
   },
   "outputs": [],
   "source": [
    "from enum import Enum\n",
    "import random\n",
    "\n",
    "class BuyStrategy(Enum):\n",
    "  RANDOM = 1\n",
    "  BUY_GAINERS = 2 # stocks with current price > starting price\n",
    "\n",
    "class SellStrategy(Enum):\n",
    "  RANDOM = 1\n",
    "  SELL_GAINERS = 2 \n",
    "  SELL_LOSERS  = 3\n",
    "\n",
    "class Investor:\n",
    "  def __init__(self, name, buyStrategy, sellStrategy):\n",
    "    self.name = name\n",
    "    self.portfolio = []\n",
    "\n",
    "    if (buyStrategy in BuyStrategy.__members__):\n",
    "      self.buyStrategy  = buyStrategy\n",
    "    else:\n",
    "      print(f'{buyStrategy} is not a valid buying strategy')\n",
    "\n",
    "    if (sellStrategy in SellStrategy.__members__):\n",
    "      self.sellStrategy  = sellStrategy\n",
    "    else:\n",
    "      print(f'{sellStrategy} is not a valid selling strategy')\n",
    "\n",
    "  def name(self):\n",
    "    return self.name\n",
    "\n",
    "  def portfolio(self):\n",
    "    return self.portfolio\n",
    "\n",
    "  def addStockToPortfolio(self, stock):\n",
    "    self.portfolio.append(stock)\n",
    "    \n",
    "  def createInitialPortfolioWithNumStocks(self, numStocks):\n",
    "    # need to test numStocks is within bounds\n",
    "    # Matt: for now, just implementing random strategy\n",
    "    if (self.buyStrategy is BuyStrategy.RANDOM.name):\n",
    "      self.portfolio = random.sample(Market.initialStocks, numStocks)\n",
    "    elif (self.buyStrategy is BuyStrategy.BUY_GAINERS.name):\n",
    "      # Katrin: Pick five stock at random and then go through market stocks and replace if more gains in previous periods\n",
    "      stockMaxPrevGains = random.sample(Market.initialStocks, numStocks)\n",
    "      i = 0\n",
    "      while (i < (len(Market.initialStocks)-2)):\n",
    "        currentGains = Market.initialStocks[i].gainsPrevious()\n",
    "        j = 0\n",
    "        while (j < numStocks):\n",
    "          if (currentGains > stockMaxPrevGains[j].gainsPrevious()):\n",
    "            stockMaxPrevGains[j] = Market.initialStocks[i]\n",
    "            break\n",
    "          j = j+1\n",
    "        i = i+1\n",
    "      self.portfolio = stockMaxPrevGains\n",
    "    else:\n",
    "      # Matt: add conditions and code for other stradegies here\n",
    "      # Katrin: I added the buying gainers strategy. We do not need a buying losers strategy.\n",
    "      print (\"Invalid strategy\")\n",
    "    \n",
    "  def buyStrategy(self):\n",
    "    return self.buyStrategy\n",
    "\n",
    "  def sellStrategy(self):\n",
    "    return self.sellStrategy\n",
    "\n",
    "  def description(self):    \n",
    "    print(f'Investor: {self.name}')\n",
    "    print(f'  buy strategy:  {self.buyStrategy}')\n",
    "    print(f'  sell strategy: {self.sellStrategy}')\n",
    "    \n",
    "    if (len(self.portfolio) == 0):\n",
    "      print(\"    No stocks in portfolio\")\n",
    "    else:\n",
    "      for stock in self.portfolio[:]:\n",
    "        stock.description()"
   ]
  },
  {
   "cell_type": "code",
   "execution_count": null,
   "metadata": {
    "colab": {
     "base_uri": "https://localhost:8080/",
     "height": 1000
    },
    "colab_type": "code",
    "id": "5pEiB4zDzmPg",
    "outputId": "b1fde0c9-9957-4845-b1d6-00435d1cbd8b"
   },
   "outputs": [],
   "source": [
    "market = Market('Changeable', 20, testMode=False)\n",
    "market.toJSON()\n",
    "# market.description()"
   ]
  },
  {
   "cell_type": "code",
   "execution_count": null,
   "metadata": {
    "colab": {},
    "colab_type": "code",
    "id": "0MDZ8oTuzsaU"
   },
   "outputs": [],
   "source": [
    "investor1 = Investor(\"firstInvestor\", 'RANDOM', 'RANDOM')\n",
    "investor2 = Investor(\"secondInvestor\", 'BUY_GAINERS', 'RANDOM')"
   ]
  },
  {
   "cell_type": "code",
   "execution_count": null,
   "metadata": {
    "colab": {
     "base_uri": "https://localhost:8080/",
     "height": 85
    },
    "colab_type": "code",
    "id": "3Clqy_PezwNE",
    "outputId": "839aaf54-aeb2-4374-cf1a-de4b7334b566"
   },
   "outputs": [],
   "source": [
    "investor1.description()\n",
    "investor2.description()"
   ]
  },
  {
   "cell_type": "code",
   "execution_count": null,
   "metadata": {
    "colab": {},
    "colab_type": "code",
    "id": "JVws6xSd0CHs"
   },
   "outputs": [],
   "source": [
    "investor1.createInitialPortfolioWithNumStocks(5)\n",
    "investor2.createInitialPortfolioWithNumStocks(5)"
   ]
  },
  {
   "cell_type": "code",
   "execution_count": null,
   "metadata": {
    "colab": {
     "base_uri": "https://localhost:8080/",
     "height": 408
    },
    "colab_type": "code",
    "id": "pTxR8xr30E4t",
    "outputId": "909002f2-b8a7-4a50-edec-08a66e6707eb"
   },
   "outputs": [],
   "source": [
    "investor1.description()\n",
    "investor2.description()"
   ]
  },
  {
   "cell_type": "code",
   "execution_count": null,
   "metadata": {
    "colab": {},
    "colab_type": "code",
    "id": "QSQsYq_R0H_3"
   },
   "outputs": [],
   "source": []
  }
 ],
 "metadata": {
  "colab": {
   "authorship_tag": "ABX9TyNfCT5mqC6701sImM8QW5IT",
   "collapsed_sections": [],
   "include_colab_link": true,
   "name": "Disposed2BOverconfident.ipynb",
   "provenance": []
  },
  "kernelspec": {
   "display_name": "Python 3",
   "language": "python",
   "name": "python3"
  },
  "language_info": {
   "codemirror_mode": {
    "name": "ipython",
    "version": 3
   },
   "file_extension": ".py",
   "mimetype": "text/x-python",
   "name": "python",
   "nbconvert_exporter": "python",
   "pygments_lexer": "ipython3",
   "version": "3.7.4"
  }
 },
 "nbformat": 4,
 "nbformat_minor": 4
}
